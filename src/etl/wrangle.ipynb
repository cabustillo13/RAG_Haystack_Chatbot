{
 "cells": [
  {
   "cell_type": "markdown",
   "metadata": {},
   "source": [
    "# Dependencies"
   ]
  },
  {
   "cell_type": "code",
   "execution_count": 1,
   "metadata": {},
   "outputs": [],
   "source": [
    "import kaggle"
   ]
  },
  {
   "cell_type": "markdown",
   "metadata": {},
   "source": [
    "# Download and load database"
   ]
  },
  {
   "cell_type": "markdown",
   "metadata": {},
   "source": [
    "## Extract data from Kaggle ID dataset\n",
    "\n",
    "For this case: https://www.kaggle.com/datasets/shivamb/netflix-shows"
   ]
  },
  {
   "cell_type": "code",
   "execution_count": 9,
   "metadata": {},
   "outputs": [],
   "source": [
    "kaggle_dataset_id = \"shivamb/netflix-shows\""
   ]
  },
  {
   "cell_type": "code",
   "execution_count": 10,
   "metadata": {},
   "outputs": [],
   "source": [
    "kaggle.api.authenticate()\n",
    "kaggle.api.dataset_download_files(kaggle_dataset_id, path='./', unzip=True)"
   ]
  },
  {
   "cell_type": "markdown",
   "metadata": {},
   "source": [
    "## Save to duckdb"
   ]
  },
  {
   "cell_type": "markdown",
   "metadata": {},
   "source": [
    "db_path = \"data.duckdb\"\n",
    "table_name = \"netflix_shows\"\n",
    "save_to_duckdb(df, table_name, db_path)"
   ]
  },
  {
   "cell_type": "markdown",
   "metadata": {},
   "source": [
    "# Visualize database"
   ]
  },
  {
   "cell_type": "code",
   "execution_count": 2,
   "metadata": {},
   "outputs": [
    {
     "data": {
      "text/html": [
       "<span style=\"None\">The &#x27;toml&#x27; package isn&#x27;t installed. To load settings from the pyproject.toml file, install with: pip install toml</span>"
      ],
      "text/plain": [
       "The 'toml' package isn't installed. To load settings from the pyproject.toml file, install with: pip install toml"
      ]
     },
     "metadata": {},
     "output_type": "display_data"
    },
    {
     "data": {
      "text/html": [
       "<span style=\"None\">Connecting to &#x27;duckdb://&#x27;</span>"
      ],
      "text/plain": [
       "Connecting to 'duckdb://'"
      ]
     },
     "metadata": {},
     "output_type": "display_data"
    }
   ],
   "source": [
    "%load_ext sql\n",
    "%sql duckdb://"
   ]
  },
  {
   "cell_type": "code",
   "execution_count": 3,
   "metadata": {},
   "outputs": [
    {
     "data": {
      "text/html": [
       "<span style=\"None\">Running query in &#x27;duckdb://&#x27;</span>"
      ],
      "text/plain": [
       "Running query in 'duckdb://'"
      ]
     },
     "metadata": {},
     "output_type": "display_data"
    },
    {
     "data": {
      "text/html": [
       "<table>\n",
       "    <thead>\n",
       "        <tr>\n",
       "            <th>show_id</th>\n",
       "            <th>type</th>\n",
       "            <th>title</th>\n",
       "            <th>director</th>\n",
       "            <th>cast</th>\n",
       "            <th>country</th>\n",
       "            <th>date_added</th>\n",
       "            <th>release_year</th>\n",
       "            <th>rating</th>\n",
       "            <th>duration</th>\n",
       "            <th>listed_in</th>\n",
       "            <th>description</th>\n",
       "        </tr>\n",
       "    </thead>\n",
       "    <tbody>\n",
       "        <tr>\n",
       "            <td>s1</td>\n",
       "            <td>Movie</td>\n",
       "            <td>Dick Johnson Is Dead</td>\n",
       "            <td>Kirsten Johnson</td>\n",
       "            <td>None</td>\n",
       "            <td>United States</td>\n",
       "            <td>September 25, 2021</td>\n",
       "            <td>2020</td>\n",
       "            <td>PG-13</td>\n",
       "            <td>90 min</td>\n",
       "            <td>Documentaries</td>\n",
       "            <td>As her father nears the end of his life, filmmaker Kirsten Johnson stages his death in inventive and comical ways to help them both face the inevitable.</td>\n",
       "        </tr>\n",
       "        <tr>\n",
       "            <td>s2</td>\n",
       "            <td>TV Show</td>\n",
       "            <td>Blood & Water</td>\n",
       "            <td>None</td>\n",
       "            <td>Ama Qamata, Khosi Ngema, Gail Mabalane, Thabang Molaba, Dillon Windvogel, Natasha Thahane, Arno Greeff, Xolile Tshabalala, Getmore Sithole, Cindy Mahlangu, Ryle De Morny, Greteli Fincham, Sello Maake Ka-Ncube, Odwa Gwanya, Mekaila Mathys, Sandi Schultz, Duane Williams, Shamilla Miller, Patrick Mofokeng</td>\n",
       "            <td>South Africa</td>\n",
       "            <td>September 24, 2021</td>\n",
       "            <td>2021</td>\n",
       "            <td>TV-MA</td>\n",
       "            <td>2 Seasons</td>\n",
       "            <td>International TV Shows, TV Dramas, TV Mysteries</td>\n",
       "            <td>After crossing paths at a party, a Cape Town teen sets out to prove whether a private-school swimming star is her sister who was abducted at birth.</td>\n",
       "        </tr>\n",
       "        <tr>\n",
       "            <td>s3</td>\n",
       "            <td>TV Show</td>\n",
       "            <td>Ganglands</td>\n",
       "            <td>Julien Leclercq</td>\n",
       "            <td>Sami Bouajila, Tracy Gotoas, Samuel Jouy, Nabiha Akkari, Sofia Lesaffre, Salim Kechiouche, Noureddine Farihi, Geert Van Rampelberg, Bakary Diombera</td>\n",
       "            <td>None</td>\n",
       "            <td>September 24, 2021</td>\n",
       "            <td>2021</td>\n",
       "            <td>TV-MA</td>\n",
       "            <td>1 Season</td>\n",
       "            <td>Crime TV Shows, International TV Shows, TV Action & Adventure</td>\n",
       "            <td>To protect his family from a powerful drug lord, skilled thief Mehdi and his expert team of robbers are pulled into a violent and deadly turf war.</td>\n",
       "        </tr>\n",
       "        <tr>\n",
       "            <td>s4</td>\n",
       "            <td>TV Show</td>\n",
       "            <td>Jailbirds New Orleans</td>\n",
       "            <td>None</td>\n",
       "            <td>None</td>\n",
       "            <td>None</td>\n",
       "            <td>September 24, 2021</td>\n",
       "            <td>2021</td>\n",
       "            <td>TV-MA</td>\n",
       "            <td>1 Season</td>\n",
       "            <td>Docuseries, Reality TV</td>\n",
       "            <td>Feuds, flirtations and toilet talk go down among the incarcerated women at the Orleans Justice Center in New Orleans on this gritty reality series.</td>\n",
       "        </tr>\n",
       "        <tr>\n",
       "            <td>s5</td>\n",
       "            <td>TV Show</td>\n",
       "            <td>Kota Factory</td>\n",
       "            <td>None</td>\n",
       "            <td>Mayur More, Jitendra Kumar, Ranjan Raj, Alam Khan, Ahsaas Channa, Revathi Pillai, Urvi Singh, Arun Kumar</td>\n",
       "            <td>India</td>\n",
       "            <td>September 24, 2021</td>\n",
       "            <td>2021</td>\n",
       "            <td>TV-MA</td>\n",
       "            <td>2 Seasons</td>\n",
       "            <td>International TV Shows, Romantic TV Shows, TV Comedies</td>\n",
       "            <td>In a city of coaching centers known to train India’s finest collegiate minds, an earnest but unexceptional student and his friends navigate campus life.</td>\n",
       "        </tr>\n",
       "    </tbody>\n",
       "</table>"
      ],
      "text/plain": [
       "+---------+---------+-----------------------+-----------------+-----------------------------------------------------------------------------------------------------------------------------------------------------------------------------------------------------------------------------------------------------------------------------------------------------------------+---------------+--------------------+--------------+--------+-----------+---------------------------------------------------------------+----------------------------------------------------------------------------------------------------------------------------------------------------------+\n",
       "| show_id |   type  |         title         |     director    |                                                                                                                                                       cast                                                                                                                                                      |    country    |     date_added     | release_year | rating |  duration |                           listed_in                           |                                                                       description                                                                        |\n",
       "+---------+---------+-----------------------+-----------------+-----------------------------------------------------------------------------------------------------------------------------------------------------------------------------------------------------------------------------------------------------------------------------------------------------------------+---------------+--------------------+--------------+--------+-----------+---------------------------------------------------------------+----------------------------------------------------------------------------------------------------------------------------------------------------------+\n",
       "|    s1   |  Movie  |  Dick Johnson Is Dead | Kirsten Johnson |                                                                                                                                                       None                                                                                                                                                      | United States | September 25, 2021 |     2020     | PG-13  |   90 min  |                         Documentaries                         | As her father nears the end of his life, filmmaker Kirsten Johnson stages his death in inventive and comical ways to help them both face the inevitable. |\n",
       "|    s2   | TV Show |     Blood & Water     |       None      | Ama Qamata, Khosi Ngema, Gail Mabalane, Thabang Molaba, Dillon Windvogel, Natasha Thahane, Arno Greeff, Xolile Tshabalala, Getmore Sithole, Cindy Mahlangu, Ryle De Morny, Greteli Fincham, Sello Maake Ka-Ncube, Odwa Gwanya, Mekaila Mathys, Sandi Schultz, Duane Williams, Shamilla Miller, Patrick Mofokeng |  South Africa | September 24, 2021 |     2021     | TV-MA  | 2 Seasons |        International TV Shows, TV Dramas, TV Mysteries        |   After crossing paths at a party, a Cape Town teen sets out to prove whether a private-school swimming star is her sister who was abducted at birth.    |\n",
       "|    s3   | TV Show |       Ganglands       | Julien Leclercq |                                                                               Sami Bouajila, Tracy Gotoas, Samuel Jouy, Nabiha Akkari, Sofia Lesaffre, Salim Kechiouche, Noureddine Farihi, Geert Van Rampelberg, Bakary Diombera                                                                               |      None     | September 24, 2021 |     2021     | TV-MA  |  1 Season | Crime TV Shows, International TV Shows, TV Action & Adventure |    To protect his family from a powerful drug lord, skilled thief Mehdi and his expert team of robbers are pulled into a violent and deadly turf war.    |\n",
       "|    s4   | TV Show | Jailbirds New Orleans |       None      |                                                                                                                                                       None                                                                                                                                                      |      None     | September 24, 2021 |     2021     | TV-MA  |  1 Season |                     Docuseries, Reality TV                    |   Feuds, flirtations and toilet talk go down among the incarcerated women at the Orleans Justice Center in New Orleans on this gritty reality series.    |\n",
       "|    s5   | TV Show |      Kota Factory     |       None      |                                                                                                     Mayur More, Jitendra Kumar, Ranjan Raj, Alam Khan, Ahsaas Channa, Revathi Pillai, Urvi Singh, Arun Kumar                                                                                                    |     India     | September 24, 2021 |     2021     | TV-MA  | 2 Seasons |     International TV Shows, Romantic TV Shows, TV Comedies    | In a city of coaching centers known to train India’s finest collegiate minds, an earnest but unexceptional student and his friends navigate campus life. |\n",
       "+---------+---------+-----------------------+-----------------+-----------------------------------------------------------------------------------------------------------------------------------------------------------------------------------------------------------------------------------------------------------------------------------------------------------------+---------------+--------------------+--------------+--------+-----------+---------------------------------------------------------------+----------------------------------------------------------------------------------------------------------------------------------------------------------+"
      ]
     },
     "execution_count": 3,
     "metadata": {},
     "output_type": "execute_result"
    }
   ],
   "source": [
    "%%sql\n",
    "SELECT * FROM netflix_titles.csv LIMIT 5"
   ]
  },
  {
   "cell_type": "markdown",
   "metadata": {},
   "source": [
    "# Insights"
   ]
  },
  {
   "cell_type": "markdown",
   "metadata": {},
   "source": [
    "### Count the number of Movies and TV Shows"
   ]
  },
  {
   "cell_type": "code",
   "execution_count": 4,
   "metadata": {},
   "outputs": [
    {
     "data": {
      "text/html": [
       "<span style=\"None\">Running query in &#x27;duckdb://&#x27;</span>"
      ],
      "text/plain": [
       "Running query in 'duckdb://'"
      ]
     },
     "metadata": {},
     "output_type": "display_data"
    },
    {
     "data": {
      "text/html": [
       "<table>\n",
       "    <thead>\n",
       "        <tr>\n",
       "            <th>type</th>\n",
       "            <th>count</th>\n",
       "        </tr>\n",
       "    </thead>\n",
       "    <tbody>\n",
       "        <tr>\n",
       "            <td>Movie</td>\n",
       "            <td>6131</td>\n",
       "        </tr>\n",
       "        <tr>\n",
       "            <td>TV Show</td>\n",
       "            <td>2676</td>\n",
       "        </tr>\n",
       "    </tbody>\n",
       "</table>"
      ],
      "text/plain": [
       "+---------+-------+\n",
       "|   type  | count |\n",
       "+---------+-------+\n",
       "|  Movie  |  6131 |\n",
       "| TV Show |  2676 |\n",
       "+---------+-------+"
      ]
     },
     "execution_count": 4,
     "metadata": {},
     "output_type": "execute_result"
    }
   ],
   "source": [
    "query = f\"\"\"\n",
    "SELECT \n",
    "    type, \n",
    "    COUNT(*) AS count\n",
    "FROM \n",
    "    netflix_titles.csv\n",
    "GROUP BY \n",
    "    type;\n",
    "\"\"\"\n",
    "# Use JupySQL magic %sql to execute the query\n",
    "%sql {{query}}\n"
   ]
  },
  {
   "cell_type": "markdown",
   "metadata": {},
   "source": [
    "### Find the top 5 countries with the most content"
   ]
  },
  {
   "cell_type": "code",
   "execution_count": 5,
   "metadata": {},
   "outputs": [
    {
     "data": {
      "text/html": [
       "<span style=\"None\">Running query in &#x27;duckdb://&#x27;</span>"
      ],
      "text/plain": [
       "Running query in 'duckdb://'"
      ]
     },
     "metadata": {},
     "output_type": "display_data"
    },
    {
     "data": {
      "text/html": [
       "<table>\n",
       "    <thead>\n",
       "        <tr>\n",
       "            <th>country</th>\n",
       "            <th>count</th>\n",
       "        </tr>\n",
       "    </thead>\n",
       "    <tbody>\n",
       "        <tr>\n",
       "            <td>United States</td>\n",
       "            <td>2818</td>\n",
       "        </tr>\n",
       "        <tr>\n",
       "            <td>India</td>\n",
       "            <td>972</td>\n",
       "        </tr>\n",
       "        <tr>\n",
       "            <td>None</td>\n",
       "            <td>831</td>\n",
       "        </tr>\n",
       "        <tr>\n",
       "            <td>United Kingdom</td>\n",
       "            <td>419</td>\n",
       "        </tr>\n",
       "        <tr>\n",
       "            <td>Japan</td>\n",
       "            <td>245</td>\n",
       "        </tr>\n",
       "    </tbody>\n",
       "</table>"
      ],
      "text/plain": [
       "+----------------+-------+\n",
       "|    country     | count |\n",
       "+----------------+-------+\n",
       "| United States  |  2818 |\n",
       "|     India      |  972  |\n",
       "|      None      |  831  |\n",
       "| United Kingdom |  419  |\n",
       "|     Japan      |  245  |\n",
       "+----------------+-------+"
      ]
     },
     "execution_count": 5,
     "metadata": {},
     "output_type": "execute_result"
    }
   ],
   "source": [
    "query = f\"\"\"\n",
    "SELECT \n",
    "    country, \n",
    "    COUNT(*) AS count\n",
    "FROM \n",
    "    netflix_titles.csv\n",
    "GROUP BY \n",
    "    country\n",
    "ORDER BY \n",
    "    count DESC\n",
    "LIMIT 5;\n",
    "\"\"\"\n",
    "# Use JupySQL magic %sql to execute the query\n",
    "%sql {{query}}"
   ]
  },
  {
   "cell_type": "markdown",
   "metadata": {},
   "source": [
    "### Average duration of Movies"
   ]
  },
  {
   "cell_type": "code",
   "execution_count": 6,
   "metadata": {},
   "outputs": [
    {
     "data": {
      "text/html": [
       "<span style=\"None\">Running query in &#x27;duckdb://&#x27;</span>"
      ],
      "text/plain": [
       "Running query in 'duckdb://'"
      ]
     },
     "metadata": {},
     "output_type": "display_data"
    },
    {
     "data": {
      "text/html": [
       "<table>\n",
       "    <thead>\n",
       "        <tr>\n",
       "            <th>avg_duration_minutes</th>\n",
       "        </tr>\n",
       "    </thead>\n",
       "    <tbody>\n",
       "        <tr>\n",
       "            <td>99.57718668407311</td>\n",
       "        </tr>\n",
       "    </tbody>\n",
       "</table>"
      ],
      "text/plain": [
       "+----------------------+\n",
       "| avg_duration_minutes |\n",
       "+----------------------+\n",
       "|  99.57718668407311   |\n",
       "+----------------------+"
      ]
     },
     "execution_count": 6,
     "metadata": {},
     "output_type": "execute_result"
    }
   ],
   "source": [
    "query = f\"\"\"\n",
    "SELECT \n",
    "    AVG(CAST(SUBSTR(duration, 1, LENGTH(duration) - 4) AS INT)) AS avg_duration_minutes\n",
    "FROM \n",
    "    netflix_titles.csv\n",
    "WHERE \n",
    "    type = 'Movie';\n",
    "\n",
    "\"\"\"\n",
    "# Use JupySQL magic %sql to execute the query\n",
    "%sql {{query}}"
   ]
  },
  {
   "cell_type": "markdown",
   "metadata": {},
   "source": [
    "### Count of content added in each year"
   ]
  },
  {
   "cell_type": "code",
   "execution_count": 7,
   "metadata": {},
   "outputs": [
    {
     "data": {
      "text/html": [
       "<span style=\"None\">Running query in &#x27;duckdb://&#x27;</span>"
      ],
      "text/plain": [
       "Running query in 'duckdb://'"
      ]
     },
     "metadata": {},
     "output_type": "display_data"
    },
    {
     "data": {
      "text/html": [
       "<table>\n",
       "    <thead>\n",
       "        <tr>\n",
       "            <th>release_year</th>\n",
       "            <th>count</th>\n",
       "        </tr>\n",
       "    </thead>\n",
       "    <tbody>\n",
       "        <tr>\n",
       "            <td>1925</td>\n",
       "            <td>1</td>\n",
       "        </tr>\n",
       "        <tr>\n",
       "            <td>1942</td>\n",
       "            <td>2</td>\n",
       "        </tr>\n",
       "        <tr>\n",
       "            <td>1943</td>\n",
       "            <td>3</td>\n",
       "        </tr>\n",
       "        <tr>\n",
       "            <td>1944</td>\n",
       "            <td>3</td>\n",
       "        </tr>\n",
       "        <tr>\n",
       "            <td>1945</td>\n",
       "            <td>4</td>\n",
       "        </tr>\n",
       "        <tr>\n",
       "            <td>1946</td>\n",
       "            <td>2</td>\n",
       "        </tr>\n",
       "        <tr>\n",
       "            <td>1947</td>\n",
       "            <td>1</td>\n",
       "        </tr>\n",
       "        <tr>\n",
       "            <td>1954</td>\n",
       "            <td>2</td>\n",
       "        </tr>\n",
       "        <tr>\n",
       "            <td>1955</td>\n",
       "            <td>3</td>\n",
       "        </tr>\n",
       "        <tr>\n",
       "            <td>1956</td>\n",
       "            <td>2</td>\n",
       "        </tr>\n",
       "    </tbody>\n",
       "</table>\n",
       "<span style=\"font-style:italic;text-align:center;\">Truncated to <a href=\"https://jupysql.ploomber.io/en/latest/api/configuration.html#displaylimit\">displaylimit</a> of 10.</span>"
      ],
      "text/plain": [
       "+--------------+-------+\n",
       "| release_year | count |\n",
       "+--------------+-------+\n",
       "|     1925     |   1   |\n",
       "|     1942     |   2   |\n",
       "|     1943     |   3   |\n",
       "|     1944     |   3   |\n",
       "|     1945     |   4   |\n",
       "|     1946     |   2   |\n",
       "|     1947     |   1   |\n",
       "|     1954     |   2   |\n",
       "|     1955     |   3   |\n",
       "|     1956     |   2   |\n",
       "+--------------+-------+\n",
       "Truncated to displaylimit of 10."
      ]
     },
     "execution_count": 7,
     "metadata": {},
     "output_type": "execute_result"
    }
   ],
   "source": [
    "query = f\"\"\"\n",
    "SELECT \n",
    "    release_year, \n",
    "    COUNT(*) AS count\n",
    "FROM \n",
    "    netflix_titles.csv\n",
    "GROUP BY \n",
    "    release_year\n",
    "ORDER BY \n",
    "    release_year;\n",
    "\n",
    "\"\"\"\n",
    "# Use JupySQL magic %sql to execute the query\n",
    "%sql {{query}}"
   ]
  },
  {
   "cell_type": "code",
   "execution_count": 8,
   "metadata": {},
   "outputs": [
    {
     "data": {
      "text/html": [
       "<span style=\"None\">Running query in &#x27;duckdb://&#x27;</span>"
      ],
      "text/plain": [
       "Running query in 'duckdb://'"
      ]
     },
     "metadata": {},
     "output_type": "display_data"
    },
    {
     "data": {
      "text/html": [
       "<table>\n",
       "    <thead>\n",
       "        <tr>\n",
       "            <th>listed_in</th>\n",
       "            <th>count</th>\n",
       "        </tr>\n",
       "    </thead>\n",
       "    <tbody>\n",
       "        <tr>\n",
       "            <td>Dramas, International Movies</td>\n",
       "            <td>362</td>\n",
       "        </tr>\n",
       "        <tr>\n",
       "            <td>Documentaries</td>\n",
       "            <td>359</td>\n",
       "        </tr>\n",
       "        <tr>\n",
       "            <td>Stand-Up Comedy</td>\n",
       "            <td>334</td>\n",
       "        </tr>\n",
       "        <tr>\n",
       "            <td>Comedies, Dramas, International Movies</td>\n",
       "            <td>274</td>\n",
       "        </tr>\n",
       "        <tr>\n",
       "            <td>Dramas, Independent Movies, International Movies</td>\n",
       "            <td>252</td>\n",
       "        </tr>\n",
       "    </tbody>\n",
       "</table>"
      ],
      "text/plain": [
       "+--------------------------------------------------+-------+\n",
       "|                    listed_in                     | count |\n",
       "+--------------------------------------------------+-------+\n",
       "|           Dramas, International Movies           |  362  |\n",
       "|                  Documentaries                   |  359  |\n",
       "|                 Stand-Up Comedy                  |  334  |\n",
       "|      Comedies, Dramas, International Movies      |  274  |\n",
       "| Dramas, Independent Movies, International Movies |  252  |\n",
       "+--------------------------------------------------+-------+"
      ]
     },
     "execution_count": 8,
     "metadata": {},
     "output_type": "execute_result"
    }
   ],
   "source": [
    "\n",
    "\n",
    "query = f\"\"\"\n",
    "SELECT \n",
    "    listed_in, \n",
    "    COUNT(*) AS count\n",
    "FROM \n",
    "    netflix_titles.csv\n",
    "GROUP BY \n",
    "    listed_in\n",
    "ORDER BY \n",
    "    count DESC\n",
    "LIMIT 5;\n",
    "\n",
    "\"\"\"\n",
    "# Use JupySQL magic %sql to execute the query\n",
    "%sql {{query}}"
   ]
  }
 ],
 "metadata": {
  "kernelspec": {
   "display_name": "Python 3",
   "language": "python",
   "name": "python3"
  },
  "language_info": {
   "codemirror_mode": {
    "name": "ipython",
    "version": 3
   },
   "file_extension": ".py",
   "mimetype": "text/x-python",
   "name": "python",
   "nbconvert_exporter": "python",
   "pygments_lexer": "ipython3",
   "version": "3.10.6"
  }
 },
 "nbformat": 4,
 "nbformat_minor": 2
}
