{
 "cells": [
  {
   "cell_type": "code",
   "execution_count": 3,
   "metadata": {},
   "outputs": [
    {
     "data": {
      "text/html": [
       "<div>\n",
       "<style scoped>\n",
       "    .dataframe tbody tr th:only-of-type {\n",
       "        vertical-align: middle;\n",
       "    }\n",
       "\n",
       "    .dataframe tbody tr th {\n",
       "        vertical-align: top;\n",
       "    }\n",
       "\n",
       "    .dataframe thead th {\n",
       "        text-align: right;\n",
       "    }\n",
       "</style>\n",
       "<table border=\"1\" class=\"dataframe\">\n",
       "  <thead>\n",
       "    <tr style=\"text-align: right;\">\n",
       "      <th></th>\n",
       "      <th>Unnamed: 0</th>\n",
       "      <th>Artist</th>\n",
       "      <th>Title</th>\n",
       "      <th>Album</th>\n",
       "      <th>Year</th>\n",
       "      <th>Date</th>\n",
       "      <th>Lyric</th>\n",
       "    </tr>\n",
       "  </thead>\n",
       "  <tbody>\n",
       "    <tr>\n",
       "      <th>0</th>\n",
       "      <td>0</td>\n",
       "      <td>BTS (방탄소년단)</td>\n",
       "      <td>Dynamite</td>\n",
       "      <td>BE</td>\n",
       "      <td>2020.0</td>\n",
       "      <td>2020-08-21</td>\n",
       "      <td>jungkook 'cause i i i'm in the stars tonight s...</td>\n",
       "    </tr>\n",
       "    <tr>\n",
       "      <th>1</th>\n",
       "      <td>1</td>\n",
       "      <td>BTS (방탄소년단)</td>\n",
       "      <td>FAKE LOVE</td>\n",
       "      <td>LOVE YOURSELF 轉 ‘Tear’</td>\n",
       "      <td>2018.0</td>\n",
       "      <td>2018-05-18</td>\n",
       "      <td>방탄소년단의 fake love 가사   v jungkook 널 위해서라면 난 슬퍼도...</td>\n",
       "    </tr>\n",
       "    <tr>\n",
       "      <th>2</th>\n",
       "      <td>2</td>\n",
       "      <td>BTS (방탄소년단)</td>\n",
       "      <td>MIC Drop (Steve Aoki Remix)</td>\n",
       "      <td>NaN</td>\n",
       "      <td>2017.0</td>\n",
       "      <td>2017-11-24</td>\n",
       "      <td>mic drop steve aoki remix 의해 방탄소년단 가사   jhope ...</td>\n",
       "    </tr>\n",
       "    <tr>\n",
       "      <th>3</th>\n",
       "      <td>3</td>\n",
       "      <td>BTS (방탄소년단)</td>\n",
       "      <td>전하지 못한 진심 (The Truth Untold)</td>\n",
       "      <td>LOVE YOURSELF 轉 ‘Tear’</td>\n",
       "      <td>2018.0</td>\n",
       "      <td>2018-05-18</td>\n",
       "      <td>방탄소년단의 전하지 못한 진심 가사   v 외로움이 가득히 피어있는 이 garden...</td>\n",
       "    </tr>\n",
       "    <tr>\n",
       "      <th>4</th>\n",
       "      <td>4</td>\n",
       "      <td>BTS (방탄소년단)</td>\n",
       "      <td>봄날 (Spring Day)</td>\n",
       "      <td>You Never Walk Alone</td>\n",
       "      <td>2017.0</td>\n",
       "      <td>2017-02-13</td>\n",
       "      <td>rm 보고 싶다 이렇게 말하니까 더 보고 싶다 너희 사진을 보고 있어도 보고 싶다 ...</td>\n",
       "    </tr>\n",
       "  </tbody>\n",
       "</table>\n",
       "</div>"
      ],
      "text/plain": [
       "   Unnamed: 0       Artist                         Title  \\\n",
       "0           0  BTS (방탄소년단)                      Dynamite   \n",
       "1           1  BTS (방탄소년단)                     FAKE LOVE   \n",
       "2           2  BTS (방탄소년단)   MIC Drop (Steve Aoki Remix)   \n",
       "3           3  BTS (방탄소년단)  전하지 못한 진심 (The Truth Untold)   \n",
       "4           4  BTS (방탄소년단)               봄날 (Spring Day)   \n",
       "\n",
       "                    Album    Year        Date  \\\n",
       "0                      BE  2020.0  2020-08-21   \n",
       "1  LOVE YOURSELF 轉 ‘Tear’  2018.0  2018-05-18   \n",
       "2                     NaN  2017.0  2017-11-24   \n",
       "3  LOVE YOURSELF 轉 ‘Tear’  2018.0  2018-05-18   \n",
       "4    You Never Walk Alone  2017.0  2017-02-13   \n",
       "\n",
       "                                               Lyric  \n",
       "0  jungkook 'cause i i i'm in the stars tonight s...  \n",
       "1  방탄소년단의 fake love 가사   v jungkook 널 위해서라면 난 슬퍼도...  \n",
       "2  mic drop steve aoki remix 의해 방탄소년단 가사   jhope ...  \n",
       "3  방탄소년단의 전하지 못한 진심 가사   v 외로움이 가득히 피어있는 이 garden...  \n",
       "4  rm 보고 싶다 이렇게 말하니까 더 보고 싶다 너희 사진을 보고 있어도 보고 싶다 ...  "
      ]
     },
     "execution_count": 3,
     "metadata": {},
     "output_type": "execute_result"
    }
   ],
   "source": [
    "from haystack.document_stores import InMemoryDocumentStore\n",
    "from haystack.nodes import PromptTemplate,AnswerParser,BM25Retriever,PromptNode\n",
    "from haystack.pipelines import Pipeline\n",
    "from haystack import Document\n",
    "import kaggle\n",
    "import pandas as pd\n",
    "import os\n",
    "from dotenv import load_dotenv\n",
    "\n",
    "# Loading up OpenAI Api Key from environment variables\n",
    "load_dotenv(\"../.env\")\n",
    "load_dotenv()\n",
    "MY_API_KEY = os.getenv(\"OPENAI_API_KEY\")\n",
    "\n",
    "# Initializing document store, use_bm25 when we can't use GPU\n",
    "document_store = InMemoryDocumentStore(use_bm25=True)\n",
    "\n",
    "# Downloading lyrics database from Kaggle\n",
    "kaggle_dataset_id = \"deepshah16/song-lyrics-dataset\"\n",
    "kaggle.api.authenticate()\n",
    "kaggle.api.dataset_download_files(kaggle_dataset_id, path='../', unzip=True)\n",
    "\n",
    "# We chose two artists for starters\n",
    "df_bts = pd.read_csv(\"../csv/BTS.csv\")\n",
    "df_lady_gaga = pd.read_csv(\"../csv/LadyGaga.csv\")\n",
    "\n",
    "df_lyrics = pd.concat([df_bts, df_lady_gaga], axis=0)\n",
    "df_lyrics.head()\n"
   ]
  },
  {
   "cell_type": "code",
   "execution_count": 4,
   "metadata": {},
   "outputs": [
    {
     "data": {
      "text/html": [
       "<div>\n",
       "<style scoped>\n",
       "    .dataframe tbody tr th:only-of-type {\n",
       "        vertical-align: middle;\n",
       "    }\n",
       "\n",
       "    .dataframe tbody tr th {\n",
       "        vertical-align: top;\n",
       "    }\n",
       "\n",
       "    .dataframe thead th {\n",
       "        text-align: right;\n",
       "    }\n",
       "</style>\n",
       "<table border=\"1\" class=\"dataframe\">\n",
       "  <thead>\n",
       "    <tr style=\"text-align: right;\">\n",
       "      <th></th>\n",
       "      <th>id</th>\n",
       "      <th>Artist</th>\n",
       "      <th>Title</th>\n",
       "      <th>Album</th>\n",
       "      <th>Year</th>\n",
       "      <th>Date</th>\n",
       "      <th>Lyric</th>\n",
       "    </tr>\n",
       "  </thead>\n",
       "  <tbody>\n",
       "    <tr>\n",
       "      <th>0</th>\n",
       "      <td>1</td>\n",
       "      <td>BTS (방탄소년단)</td>\n",
       "      <td>Dynamite</td>\n",
       "      <td>BE</td>\n",
       "      <td>2020.0</td>\n",
       "      <td>2020-08-21</td>\n",
       "      <td>jungkook 'cause i i i'm in the stars tonight s...</td>\n",
       "    </tr>\n",
       "    <tr>\n",
       "      <th>1</th>\n",
       "      <td>2</td>\n",
       "      <td>BTS (방탄소년단)</td>\n",
       "      <td>FAKE LOVE</td>\n",
       "      <td>LOVE YOURSELF 轉 ‘Tear’</td>\n",
       "      <td>2018.0</td>\n",
       "      <td>2018-05-18</td>\n",
       "      <td>방탄소년단의 fake love 가사   v jungkook 널 위해서라면 난 슬퍼도...</td>\n",
       "    </tr>\n",
       "    <tr>\n",
       "      <th>2</th>\n",
       "      <td>3</td>\n",
       "      <td>BTS (방탄소년단)</td>\n",
       "      <td>MIC Drop (Steve Aoki Remix)</td>\n",
       "      <td>NaN</td>\n",
       "      <td>2017.0</td>\n",
       "      <td>2017-11-24</td>\n",
       "      <td>mic drop steve aoki remix 의해 방탄소년단 가사   jhope ...</td>\n",
       "    </tr>\n",
       "    <tr>\n",
       "      <th>3</th>\n",
       "      <td>4</td>\n",
       "      <td>BTS (방탄소년단)</td>\n",
       "      <td>전하지 못한 진심 (The Truth Untold)</td>\n",
       "      <td>LOVE YOURSELF 轉 ‘Tear’</td>\n",
       "      <td>2018.0</td>\n",
       "      <td>2018-05-18</td>\n",
       "      <td>방탄소년단의 전하지 못한 진심 가사   v 외로움이 가득히 피어있는 이 garden...</td>\n",
       "    </tr>\n",
       "    <tr>\n",
       "      <th>4</th>\n",
       "      <td>5</td>\n",
       "      <td>BTS (방탄소년단)</td>\n",
       "      <td>봄날 (Spring Day)</td>\n",
       "      <td>You Never Walk Alone</td>\n",
       "      <td>2017.0</td>\n",
       "      <td>2017-02-13</td>\n",
       "      <td>rm 보고 싶다 이렇게 말하니까 더 보고 싶다 너희 사진을 보고 있어도 보고 싶다 ...</td>\n",
       "    </tr>\n",
       "  </tbody>\n",
       "</table>\n",
       "</div>"
      ],
      "text/plain": [
       "   id       Artist                         Title                   Album  \\\n",
       "0   1  BTS (방탄소년단)                      Dynamite                      BE   \n",
       "1   2  BTS (방탄소년단)                     FAKE LOVE  LOVE YOURSELF 轉 ‘Tear’   \n",
       "2   3  BTS (방탄소년단)   MIC Drop (Steve Aoki Remix)                     NaN   \n",
       "3   4  BTS (방탄소년단)  전하지 못한 진심 (The Truth Untold)  LOVE YOURSELF 轉 ‘Tear’   \n",
       "4   5  BTS (방탄소년단)               봄날 (Spring Day)    You Never Walk Alone   \n",
       "\n",
       "     Year        Date                                              Lyric  \n",
       "0  2020.0  2020-08-21  jungkook 'cause i i i'm in the stars tonight s...  \n",
       "1  2018.0  2018-05-18  방탄소년단의 fake love 가사   v jungkook 널 위해서라면 난 슬퍼도...  \n",
       "2  2017.0  2017-11-24  mic drop steve aoki remix 의해 방탄소년단 가사   jhope ...  \n",
       "3  2018.0  2018-05-18  방탄소년단의 전하지 못한 진심 가사   v 외로움이 가득히 피어있는 이 garden...  \n",
       "4  2017.0  2017-02-13  rm 보고 싶다 이렇게 말하니까 더 보고 싶다 너희 사진을 보고 있어도 보고 싶다 ...  "
      ]
     },
     "execution_count": 4,
     "metadata": {},
     "output_type": "execute_result"
    }
   ],
   "source": [
    "# Renaming first column to id and generating the correct numbers\n",
    "col_names = df_lyrics.columns.to_list()\n",
    "col_names[0] = \"id\"\n",
    "df_lyrics.columns = col_names\n",
    "df_lyrics.reset_index(drop=True, inplace=True)\n",
    "df_lyrics[\"id\"] = df_lyrics.index + 1\n",
    "\n",
    "df_lyrics.head()"
   ]
  },
  {
   "cell_type": "code",
   "execution_count": 5,
   "metadata": {},
   "outputs": [
    {
     "name": "stderr",
     "output_type": "stream",
     "text": [
      "Updating BM25 representation...: 100%|██████████| 680/680 [00:00<00:00, 14419.25 docs/s]\n"
     ]
    }
   ],
   "source": [
    "# Document store expects a content column\n",
    "df_lyrics = df_lyrics.rename(columns={\"Lyric\": \"content\"})\n",
    "\n",
    "# Converting dataframe to list of dictionaires\n",
    "document_store.write_documents(df_lyrics.to_dict('records'))"
   ]
  },
  {
   "cell_type": "code",
   "execution_count": 6,
   "metadata": {},
   "outputs": [],
   "source": [
    "rag_prompt = PromptTemplate(\n",
    "    prompt=\"\"\"Synthesize a brief answer from the following text for the given question.\n",
    "            Provide a clear and concise response related to music lyrics and the artists provided.\n",
    "            Your answer should be in your own words and be no longer than 50 words.\n",
    "            \\n\\n Music Lyrics: {join(documents)} \\n\\n Question: {query} \\n\\n Answer:\"\"\",\n",
    "    output_parser=AnswerParser(),\n",
    ")"
   ]
  },
  {
   "cell_type": "code",
   "execution_count": 7,
   "metadata": {},
   "outputs": [],
   "source": [
    "retriever = BM25Retriever(document_store=document_store, top_k=2)\n",
    "pn = PromptNode(\"gpt-3.5-turbo\", \n",
    "                api_key=MY_API_KEY, \n",
    "                model_kwargs={\"stream\":False},\n",
    "                default_prompt_template=rag_prompt)\n"
   ]
  },
  {
   "cell_type": "code",
   "execution_count": 8,
   "metadata": {},
   "outputs": [],
   "source": [
    "# Setting up the pipeline\n",
    "pipe = Pipeline()\n",
    "pipe.add_node(component=retriever, name=\"retriever\", inputs=[\"Query\"])\n",
    "pipe.add_node(component=pn, name=\"prompt_node\", inputs=[\"retriever\"])"
   ]
  },
  {
   "cell_type": "markdown",
   "metadata": {},
   "source": [
    "Some test runs. It seems it doesn't read BTS songs since they're in Korean."
   ]
  },
  {
   "cell_type": "code",
   "execution_count": 9,
   "metadata": {},
   "outputs": [
    {
     "name": "stdout",
     "output_type": "stream",
     "text": [
      "The song \"Born This Way\" by Lady Gaga talks about being born and embracing one's true self.\n"
     ]
    }
   ],
   "source": [
    "output = pipe.run(query=\"What songs talk about being born and who is the artist?\")\n",
    "\n",
    "print(output[\"answers\"][0].answer)\n"
   ]
  },
  {
   "cell_type": "code",
   "execution_count": 14,
   "metadata": {},
   "outputs": [
    {
     "name": "stdout",
     "output_type": "stream",
     "text": [
      "There is no mention of any songs specifically about hormones in the given text. Therefore, we cannot determine which songs talk about hormones or the artist behind them.\n"
     ]
    }
   ],
   "source": [
    "output = pipe.run(query=\"Which songs talk about hormones and who is the artist?\")\n",
    "\n",
    "print(output[\"answers\"][0].answer)"
   ]
  },
  {
   "cell_type": "code",
   "execution_count": 12,
   "metadata": {},
   "outputs": [
    {
     "name": "stdout",
     "output_type": "stream",
     "text": [
      "The songs that talk about self-esteem are \"Born This Way\" and \"This One's for You.\" The artist is Lady Gaga.\n"
     ]
    }
   ],
   "source": [
    "output = pipe.run(query=\"Which songs talk about self-esteem and who is the artist?\")\n",
    "\n",
    "print(output[\"answers\"][0].answer)"
   ]
  }
 ],
 "metadata": {
  "kernelspec": {
   "display_name": "hacktoberfest-env",
   "language": "python",
   "name": "python3"
  },
  "language_info": {
   "codemirror_mode": {
    "name": "ipython",
    "version": 3
   },
   "file_extension": ".py",
   "mimetype": "text/x-python",
   "name": "python",
   "nbconvert_exporter": "python",
   "pygments_lexer": "ipython3",
   "version": "3.10.13"
  },
  "orig_nbformat": 4
 },
 "nbformat": 4,
 "nbformat_minor": 2
}
